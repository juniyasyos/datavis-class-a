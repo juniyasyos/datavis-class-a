{
 "cells": [
  {
   "cell_type": "markdown",
   "id": "379f70bd",
   "metadata": {},
   "source": [
    "## Tugas Mandiri\n",
    "1. Pilih satu dataset bawaan seaborn: `tips`, `flights`, atau `iris`.\n",
    "2. Buat minimal:\n",
    "   - Satu histogram untuk variabel numerik.\n",
    "   - Satu barplot dengan agregasi (mis. rata-rata).\n",
    "   - Satu scatter atau line plot untuk hubungan antar variabel.\n",
    "3. Tambahkan catatan interpretasi singkat di sel markdown setelah tiap visualisasi.\n",
    "4. Rapikan tampilan plot (judul, label, warna)."
   ]
  },
  {
   "cell_type": "code",
   "execution_count": null,
   "id": "71fe931a",
   "metadata": {},
   "outputs": [],
   "source": [
    "# Mulai eksplorasi di sini\n",
    "import seaborn as sns\n",
    "import matplotlib.pyplot as plt\n",
    "import pandas as pd\n",
    "\n",
    "# Contoh: ganti dengan dataset pilihan Anda\n",
    "df = sns.load_dataset('tips')\n",
    "\n",
    "# TODO: tambahkan plot dan analisis Anda\n"
   ]
  }
 ],
 "metadata": {},
 "nbformat": 4,
 "nbformat_minor": 5
}
